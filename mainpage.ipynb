{
 "cells": [
  {
   "cell_type": "markdown",
   "id": "ce22f088",
   "metadata": {},
   "source": [
    "# Mon test parce que je suis rouillé\n",
    "\n",
    "Utilisant [Jupyter Notebook](https://docs.jupyter.org/en/latest/start/index.html) pour les documents, [Pipenv](https://pipenv.pypa.io/en/latest/) pour la gestion des dépendences locales, [Pandas](https://pandas.pydata.org/docs/index.html) pour la manipulation des données, et [SQLite 3](https://docs.python.org/3/library/sqlite3.html) pour le stockage et la lecture de données."
   ]
  },
  {
   "cell_type": "code",
   "execution_count": 23,
   "id": "5c33d75e",
   "metadata": {},
   "outputs": [
    {
     "name": "stdout",
     "output_type": "stream",
     "text": [
      "[1, 2, 3]\n"
     ]
    }
   ],
   "source": [
    "# Du code en python qui sera exécuté à l'ouverture du document ou manuellement\n",
    "var = [1, 2, 3]\n",
    "print(var)"
   ]
  },
  {
   "cell_type": "code",
   "execution_count": 24,
   "id": "6155124a-6ddc-4dab-afe7-71853093f586",
   "metadata": {},
   "outputs": [
    {
     "name": "stdout",
     "output_type": "stream",
     "text": [
      "[1, 2, 3]\n"
     ]
    }
   ],
   "source": [
    "# On déclare nos imports\n",
    "import sqlite3 as sqlite\n",
    "import pandas as pd\n",
    "\n",
    "# Les variables déclarées précédemment peuvent être réutilisées\n",
    "# Le seul problème c'est que les cellules seront donc dépendantes d'autres\n",
    "print(var)\n",
    "\n",
    "db_name = 'database.db'"
   ]
  },
  {
   "cell_type": "code",
   "execution_count": 25,
   "id": "f5b906ed",
   "metadata": {},
   "outputs": [],
   "source": [
    "# On prépare pour le reste du document, en créant la table si elle n'existe pas déjà\n",
    "# On pourrait avoir tout ça dans un document à part, \n",
    "\n",
    "# Ouvre une connexion avec la base de données\n",
    "con = sqlite.connect(db_name)\n",
    "cur = con.cursor()\n",
    "\n",
    "try:\n",
    "    # Ça vient de l'exemple de SQLite 3 mais ça peut être n'importe quoi\n",
    "    cur.execute(\"CREATE TABLE stocks (date text, trans text, symbol text, qty real, price real)\")\n",
    "    cur.execute(\"INSERT INTO stocks VALUES ('2006-01-05','BUY','RHAT',100,35.14)\")\n",
    "    con.commit()\n",
    "except:\n",
    "    print(\"Table already exists\")\n",
    "\n",
    "con.close()"
   ]
  },
  {
   "cell_type": "code",
   "execution_count": 26,
   "id": "76b4b701",
   "metadata": {},
   "outputs": [
    {
     "name": "stdout",
     "output_type": "stream",
     "text": [
      "         date trans symbol    qty  price\n",
      "0  2006-01-05   BUY   RHAT  100.0  35.14\n"
     ]
    }
   ],
   "source": [
    "con = sqlite.connect(db_name)\n",
    "\n",
    "# On lit quelques données pour voir\n",
    "cur = con.cursor()\n",
    "\n",
    "# De base, `.execute` avec un `SELECT` retourne un `iterator`, une structure qui peut être utilisé pour alimenter une boucle\n",
    "cur.execute('SELECT * FROM stocks ORDER BY price')\n",
    "# Mais on peut utiliser `fetchall` pour directemement récupérer le résultat sous forme d'une liste\n",
    "result = cur.fetchall()\n",
    "con.close()\n",
    "\n",
    "# Puis transformer cette liste en un `DataFrame` avec `pandas`, en lui donnant des noms de colonnes\n",
    "df = pd.DataFrame(result, index=None, columns=['date', 'trans', 'symbol', 'qty', 'price'])\n",
    "\n",
    "print(df)\n",
    "\n",
    "# On peut utiliser après des libraries comme `plotly`, `matplotlib` pour faire de la visualisation à partir des données récupérées, ou `numpy` pour des statistiques"
   ]
  }
 ],
 "metadata": {
  "kernelspec": {
   "display_name": "Python 3 (ipykernel)",
   "language": "python",
   "name": "python3"
  },
  "language_info": {
   "codemirror_mode": {
    "name": "ipython",
    "version": 3
   },
   "file_extension": ".py",
   "mimetype": "text/x-python",
   "name": "python",
   "nbconvert_exporter": "python",
   "pygments_lexer": "ipython3",
   "version": "3.9.1"
  }
 },
 "nbformat": 4,
 "nbformat_minor": 5
}
